#Quesion 1. Given data, write Python code to plot the graph to show "Weekly sales" as shown in the expected result.

import matplotlib.pyplot as plt 
 
day = [1, 2, 3, 4, 5, 6,7] 
sales = [10, 24, 36, 40, 22, 57, 15] 

label_day = ['Mon', 'Tue', 'Wed', 'Thu', 'Fri', 'Sat', 'Sun'] 
   
plt.bar(day, sales, tick_label = label_day, 
        width = 0.8, color = ['blue', 'green']) 
  
plt.xlabel('Days') 
 
plt.ylabel('Sales (USD)') 
 
plt.title('Weekly Sales') 
  
plt.show()
